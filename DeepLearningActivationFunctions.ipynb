{
  "nbformat": 4,
  "nbformat_minor": 0,
  "metadata": {
    "colab": {
      "name": "DeepLearningActivationFunctions.ipynb",
      "provenance": [],
      "collapsed_sections": [],
      "authorship_tag": "ABX9TyOXWHLVoUcP+EOHA/9WnDy0",
      "include_colab_link": true
    },
    "kernelspec": {
      "name": "python3",
      "display_name": "Python 3"
    },
    "language_info": {
      "name": "python"
    }
  },
  "cells": [
    {
      "cell_type": "markdown",
      "metadata": {
        "id": "view-in-github",
        "colab_type": "text"
      },
      "source": [
        "<a href=\"https://colab.research.google.com/github/UshaSDiggi/UshaSDiggi/blob/main/DeepLearningActivationFunctions.ipynb\" target=\"_parent\"><img src=\"https://colab.research.google.com/assets/colab-badge.svg\" alt=\"Open In Colab\"/></a>"
      ]
    },
    {
      "cell_type": "code",
      "execution_count": null,
      "metadata": {
        "id": "rGG8l43xG06Y"
      },
      "outputs": [],
      "source": [
        "#Sigmoid activation function\n",
        "\n",
        "''' It is a non linear activation function'''\n",
        "\n",
        "''' The neuron network outputs are optimized between 0 to 1'''\n",
        "\n",
        "''' Irrespective input value output will be in between 0 to 1'''\n",
        "\n",
        "''' Equation z = 1/(1+exp^-x)'''\n",
        "\n",
        "import numpy as np\n",
        "\n",
        "def sigmoid_function(x):\n",
        "  z = 1/(1+np.exp(-x));\n",
        "  return z;\n",
        "\n",
        "#print(sigmoid_function(1));\n",
        "#print(sigmoid_function(100));\n",
        "#print(sigmoid_function(1000));\n",
        "#print(sigmoid_function(255));\n",
        "#print(sigmoid_function(50));\n",
        "#print(sigmoid_function(-1));\n",
        "#print(sigmoid_function(1));"
      ]
    },
    {
      "cell_type": "code",
      "source": [
        "# ReLU\n",
        "\n",
        "'''Rectified linear Unit'''\n",
        "\n",
        "'''It is a non linear activation funtion'''\n",
        "\n",
        "''' f(x) = max(0,x)'''\n",
        "\n"
      ],
      "metadata": {
        "colab": {
          "base_uri": "https://localhost:8080/"
        },
        "id": "VBnvlcG_Hptn",
        "outputId": "75173b82-000d-4e05-8bf2-d25c38cee27e"
      },
      "execution_count": 10,
      "outputs": [
        {
          "output_type": "stream",
          "name": "stdout",
          "text": [
            "0.2689414213699951\n",
            "0.7310585786300049\n"
          ]
        }
      ]
    }
  ]
}