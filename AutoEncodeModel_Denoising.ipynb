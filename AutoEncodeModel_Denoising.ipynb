{
  "nbformat": 4,
  "nbformat_minor": 0,
  "metadata": {
    "colab": {
      "name": "AutoEncodeModel_Denoising.ipynb",
      "provenance": [],
      "authorship_tag": "ABX9TyPnua2fWuDPmQomDv4o1z6m",
      "include_colab_link": true
    },
    "kernelspec": {
      "name": "python3",
      "display_name": "Python 3"
    },
    "language_info": {
      "name": "python"
    }
  },
  "cells": [
    {
      "cell_type": "markdown",
      "metadata": {
        "id": "view-in-github",
        "colab_type": "text"
      },
      "source": [
        "<a href=\"https://colab.research.google.com/github/UshaSDiggi/UshaSDiggi/blob/main/AutoEncodeModel_Denoising.ipynb\" target=\"_parent\"><img src=\"https://colab.research.google.com/assets/colab-badge.svg\" alt=\"Open In Colab\"/></a>"
      ]
    },
    {
      "cell_type": "code",
      "execution_count": null,
      "metadata": {
        "id": "9PaNd2cSonPE"
      },
      "outputs": [],
      "source": [
        "#import the libraries\n",
        "import numpy as np\n",
        "import matplotlib.pyplot as plt\n",
        "import pandas as pd\n",
        "import tensorflow as tf\n",
        "from tensorflow.keras.models import Model\n",
        "from tensorflow.keras.datasets import fashion_mnist\n",
        "from tensorflow.keras import layers, losses\n",
        "from sklearn.model_selection import train_test_split\n",
        "from sklearn.metrics import accuracy_score, precision_score, recall_score"
      ]
    },
    {
      "cell_type": "code",
      "source": [
        "(x_train, _),(x_test, _) = fashion_mnist.load_data()\n",
        "x_train = x_train.astype('float32')/255\n",
        "x_test = x_test.astype('float32')/255"
      ],
      "metadata": {
        "colab": {
          "base_uri": "https://localhost:8080/"
        },
        "id": "-wzi1D9lpwDG",
        "outputId": "9bb93dc7-43f8-4d44-fb88-a470193041c3"
      },
      "execution_count": null,
      "outputs": [
        {
          "output_type": "stream",
          "name": "stdout",
          "text": [
            "Downloading data from https://storage.googleapis.com/tensorflow/tf-keras-datasets/train-labels-idx1-ubyte.gz\n",
            "32768/29515 [=================================] - 0s 0us/step\n",
            "40960/29515 [=========================================] - 0s 0us/step\n",
            "Downloading data from https://storage.googleapis.com/tensorflow/tf-keras-datasets/train-images-idx3-ubyte.gz\n",
            "26427392/26421880 [==============================] - 0s 0us/step\n",
            "26435584/26421880 [==============================] - 0s 0us/step\n",
            "Downloading data from https://storage.googleapis.com/tensorflow/tf-keras-datasets/t10k-labels-idx1-ubyte.gz\n",
            "16384/5148 [===============================================================================================] - 0s 0us/step\n",
            "Downloading data from https://storage.googleapis.com/tensorflow/tf-keras-datasets/t10k-images-idx3-ubyte.gz\n",
            "4423680/4422102 [==============================] - 0s 0us/step\n",
            "4431872/4422102 [==============================] - 0s 0us/step\n"
          ]
        }
      ]
    },
    {
      "cell_type": "code",
      "source": [
        "x_train = x_train[...,tf.newaxis]\n",
        "x_test = x_test[...,tf.newaxis]\n",
        "noise_factor = 0.2\n",
        "x_train_noisy = x_train + noise_factor * tf.random.normal(shape=x_train.shape) \n",
        "x_test_noisy = x_test + noise_factor * tf.random.normal(shape=x_test.shape) \n",
        "\n",
        "x_train_noisy = tf.clip_by_value(x_train_noisy, clip_value_min=0., clip_value_max=1.)\n",
        "x_test_noisy = tf.clip_by_value(x_test_noisy, clip_value_min=0., clip_value_max=1.)"
      ],
      "metadata": {
        "id": "qhXwWsGqwDWp"
      },
      "execution_count": null,
      "outputs": []
    },
    {
      "cell_type": "code",
      "source": [
        "\n",
        "class Denoise(Model):\n",
        "  def __init__(self):\n",
        "    super(Denoise,self).__init__()\n",
        "    self.encoder = tf.keras.Sequential([layers.Input(shape=(28,28,1)),\n",
        "                                        layers.Conv2D(16,(3,3),activation='relu',padding='same',strides=2),\n",
        "                                        layers.Conv2D(8,(3,3),activation='relu',padding='same',strides=2)\n",
        "                                        ])\n",
        "    self.decoder = tf.keras.Sequential([\n",
        "                                        layers.Conv2DTranspose(8,kernel_size=3,strides=2,activation='relu',padding='same'),\n",
        "                                        layers.Conv2DTranspose(16,kernel_size=3,strides=2,activation='relu',padding='same'),\n",
        "                                        layers.Conv2D(1,kernel_size=(3,3),activation='sigmoid',padding='same')])\n",
        "  def call(self,x):\n",
        "    encoded = self.encoder(x)\n",
        "    decoded = self.decoder(encoded)\n",
        "    return decoded\n"
      ],
      "metadata": {
        "id": "2kyP4ht3qHCl"
      },
      "execution_count": null,
      "outputs": []
    },
    {
      "cell_type": "code",
      "source": [
        "autoencoder = Denoise()\n",
        "autoencoder.compile(optimizer='adam',loss=losses.MeanSquaredError())"
      ],
      "metadata": {
        "id": "HQMGacivzF_W"
      },
      "execution_count": null,
      "outputs": []
    },
    {
      "cell_type": "code",
      "source": [
        "autoencoder.fit(x_train_noisy,x_train,\n",
        "                epochs=10,\n",
        "                shuffle=True,\n",
        "                validation_data=(x_test_noisy,x_test))"
      ],
      "metadata": {
        "colab": {
          "base_uri": "https://localhost:8080/"
        },
        "id": "jKL9djLE49yo",
        "outputId": "720d71d0-6181-4b8a-a32b-08a5c9be71ab"
      },
      "execution_count": null,
      "outputs": [
        {
          "output_type": "stream",
          "name": "stdout",
          "text": [
            "Epoch 1/10\n",
            "1875/1875 [==============================] - 71s 37ms/step - loss: 0.0175 - val_loss: 0.0096\n",
            "Epoch 2/10\n",
            "1875/1875 [==============================] - 68s 36ms/step - loss: 0.0090 - val_loss: 0.0087\n",
            "Epoch 3/10\n",
            "1875/1875 [==============================] - 68s 36ms/step - loss: 0.0081 - val_loss: 0.0078\n",
            "Epoch 4/10\n",
            "1875/1875 [==============================] - 68s 36ms/step - loss: 0.0077 - val_loss: 0.0076\n",
            "Epoch 5/10\n",
            "1875/1875 [==============================] - 70s 37ms/step - loss: 0.0075 - val_loss: 0.0075\n",
            "Epoch 6/10\n",
            "1875/1875 [==============================] - 72s 39ms/step - loss: 0.0073 - val_loss: 0.0071\n",
            "Epoch 7/10\n",
            "1875/1875 [==============================] - 71s 38ms/step - loss: 0.0070 - val_loss: 0.0070\n",
            "Epoch 8/10\n",
            "1875/1875 [==============================] - 68s 36ms/step - loss: 0.0069 - val_loss: 0.0070\n",
            "Epoch 9/10\n",
            "1875/1875 [==============================] - 73s 39ms/step - loss: 0.0069 - val_loss: 0.0069\n",
            "Epoch 10/10\n",
            "1875/1875 [==============================] - 70s 38ms/step - loss: 0.0068 - val_loss: 0.0068\n"
          ]
        },
        {
          "output_type": "execute_result",
          "data": {
            "text/plain": [
              "<keras.callbacks.History at 0x7fcc1e770dd0>"
            ]
          },
          "metadata": {},
          "execution_count": 32
        }
      ]
    },
    {
      "cell_type": "code",
      "source": [
        "encoded_imgs = autoencoder.encoder(x_test).numpy()\n",
        "decoded_imgs = autoencoder.decoder(encoded_imgs).numpy()"
      ],
      "metadata": {
        "id": "2gvpliRr9JlN"
      },
      "execution_count": null,
      "outputs": []
    },
    {
      "cell_type": "markdown",
      "source": [
        ""
      ],
      "metadata": {
        "id": "8S3QNb0Jtm3M"
      }
    }
  ]
}